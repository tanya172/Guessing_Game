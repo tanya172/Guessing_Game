{
  "nbformat": 4,
  "nbformat_minor": 0,
  "metadata": {
    "colab": {
      "provenance": [],
      "authorship_tag": "ABX9TyNekIKATm5UktiPJxznKdHE",
      "include_colab_link": true
    },
    "kernelspec": {
      "name": "python3",
      "display_name": "Python 3"
    },
    "language_info": {
      "name": "python"
    }
  },
  "cells": [
    {
      "cell_type": "markdown",
      "metadata": {
        "id": "view-in-github",
        "colab_type": "text"
      },
      "source": [
        "<a href=\"https://colab.research.google.com/github/tanya172/Guessing_Game/blob/main/game.ipynb\" target=\"_parent\"><img src=\"https://colab.research.google.com/assets/colab-badge.svg\" alt=\"Open In Colab\"/></a>"
      ]
    },
    {
      "cell_type": "code",
      "execution_count": 1,
      "metadata": {
        "id": "gSi-TQyxyjSG"
      },
      "outputs": [],
      "source": [
        "#Guessing Game"
      ]
    },
    {
      "cell_type": "code",
      "source": [
        "secret_word = \"Chai\"\n",
        "guess = \" \"\n",
        "while guess!=secret_word :\n",
        "  guess=input (\"Guess the word \")\n",
        "\n",
        "print(\"Yon Won !\")"
      ],
      "metadata": {
        "colab": {
          "base_uri": "https://localhost:8080/"
        },
        "id": "prh-X6GTylNh",
        "outputId": "6ce10da7-32c7-41a8-9ace-622b29b52bb6"
      },
      "execution_count": 3,
      "outputs": [
        {
          "output_type": "stream",
          "name": "stdout",
          "text": [
            "Guess the word hi\n",
            "Guess the word chia\n",
            "Guess the word chai\n",
            "Guess the word Chai\n",
            "Yon Won !\n"
          ]
        }
      ]
    },
    {
      "cell_type": "code",
      "source": [
        "#updated_version\n",
        "\n",
        "secret_word = \"chai\"\n",
        "guess = \" \"\n",
        "guess_count = 0\n",
        "out_of_guess = False\n",
        "guess_limit = 3\n",
        "\n",
        "while guess != secret_word and not(out_of_guess):\n",
        "    if guess_count < guess_limit:\n",
        "        guess = input(\"Guess: \")\n",
        "        guess_count += 1\n",
        "    else:\n",
        "        out_of_guess = True\n",
        "\n",
        "if out_of_guess:\n",
        "    print(\"You are out of guesses. You Lose!\")\n",
        "else:\n",
        "    print(\"You Won!\")"
      ],
      "metadata": {
        "colab": {
          "base_uri": "https://localhost:8080/"
        },
        "id": "xDMGva3foe86",
        "outputId": "97713d1d-4635-414b-f07c-8c2b76caa472"
      },
      "execution_count": 7,
      "outputs": [
        {
          "output_type": "stream",
          "name": "stdout",
          "text": [
            "Guess: chai\n",
            "You Won!\n"
          ]
        }
      ]
    }
  ]
}